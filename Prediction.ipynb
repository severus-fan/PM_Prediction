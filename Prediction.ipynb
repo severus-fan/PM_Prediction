{
 "cells": [
  {
   "cell_type": "code",
   "execution_count": 2,
   "metadata": {},
   "outputs": [
    {
     "output_type": "execute_result",
     "data": {
      "text/plain": "'1.0.4'"
     },
     "metadata": {},
     "execution_count": 2
    }
   ],
   "source": [
    "import sys\n",
    "import pandas as pd\n",
    "import numpy as np\n",
    "import tensorflow as tf\n",
    "pd.__version__\n",
    "# from google.colab import drive"
   ]
  },
  {
   "cell_type": "code",
   "execution_count": 3,
   "metadata": {},
   "outputs": [
    {
     "output_type": "execute_result",
     "data": {
      "text/plain": "              日期  測站          測項     0     1     2     3     4     5     6  \\\n0       2014/1/1  豐原    AMB_TEMP    14    14    14    13    12    12    12   \n1       2014/1/1  豐原         CH4   1.8   1.8   1.8   1.8   1.8   1.8   1.8   \n2       2014/1/1  豐原          CO  0.51  0.41  0.39  0.37  0.35   0.3  0.37   \n3       2014/1/1  豐原        NMHC   0.2  0.15  0.13  0.12  0.11  0.06   0.1   \n4       2014/1/1  豐原          NO   0.9   0.6   0.5   1.7   1.8   1.5   1.9   \n...          ...  ..         ...   ...   ...   ...   ...   ...   ...   ...   \n4315  2014/12/20  豐原         THC   1.8   1.8   1.8   1.8   1.8   1.7   1.7   \n4316  2014/12/20  豐原       WD_HR    46    13    61    44    55    68    66   \n4317  2014/12/20  豐原  WIND_DIREC    36    55    72   327    74    52    59   \n4318  2014/12/20  豐原  WIND_SPEED   1.9   2.4   1.9   2.8   2.3   1.9   2.1   \n4319  2014/12/20  豐原       WS_HR   0.7   0.8   1.8     1   1.9   1.7   2.1   \n\n      ...    14    15    16    17    18    19    20    21    22    23  \n0     ...    22    22    21    19    17    16    15    15    15    15  \n1     ...   1.8   1.8   1.8   1.8   1.8   1.8   1.8   1.8   1.8   1.8  \n2     ...  0.37  0.37  0.47  0.69  0.56  0.45  0.38  0.35  0.36  0.32  \n3     ...   0.1  0.13  0.14  0.23  0.18  0.12   0.1  0.09   0.1  0.08  \n4     ...   2.5   2.2   2.5   2.3   2.1   1.9   1.5   1.6   1.8   1.5  \n...   ...   ...   ...   ...   ...   ...   ...   ...   ...   ...   ...  \n4315  ...   1.8   1.8     2   2.1     2   1.9   1.9   1.9     2     2  \n4316  ...    59   308   327    21   100   109   108   114   108   109  \n4317  ...    18   311    52    54   121    97   107   118   100   105  \n4318  ...   2.3   2.6   1.3     1   1.5     1   1.7   1.5     2     2  \n4319  ...   1.3   1.7   0.7   0.4   1.1   1.4   1.3   1.6   1.8     2  \n\n[4320 rows x 27 columns]",
      "text/html": "<div>\n<style scoped>\n    .dataframe tbody tr th:only-of-type {\n        vertical-align: middle;\n    }\n\n    .dataframe tbody tr th {\n        vertical-align: top;\n    }\n\n    .dataframe thead th {\n        text-align: right;\n    }\n</style>\n<table border=\"1\" class=\"dataframe\">\n  <thead>\n    <tr style=\"text-align: right;\">\n      <th></th>\n      <th>日期</th>\n      <th>測站</th>\n      <th>測項</th>\n      <th>0</th>\n      <th>1</th>\n      <th>2</th>\n      <th>3</th>\n      <th>4</th>\n      <th>5</th>\n      <th>6</th>\n      <th>...</th>\n      <th>14</th>\n      <th>15</th>\n      <th>16</th>\n      <th>17</th>\n      <th>18</th>\n      <th>19</th>\n      <th>20</th>\n      <th>21</th>\n      <th>22</th>\n      <th>23</th>\n    </tr>\n  </thead>\n  <tbody>\n    <tr>\n      <th>0</th>\n      <td>2014/1/1</td>\n      <td>豐原</td>\n      <td>AMB_TEMP</td>\n      <td>14</td>\n      <td>14</td>\n      <td>14</td>\n      <td>13</td>\n      <td>12</td>\n      <td>12</td>\n      <td>12</td>\n      <td>...</td>\n      <td>22</td>\n      <td>22</td>\n      <td>21</td>\n      <td>19</td>\n      <td>17</td>\n      <td>16</td>\n      <td>15</td>\n      <td>15</td>\n      <td>15</td>\n      <td>15</td>\n    </tr>\n    <tr>\n      <th>1</th>\n      <td>2014/1/1</td>\n      <td>豐原</td>\n      <td>CH4</td>\n      <td>1.8</td>\n      <td>1.8</td>\n      <td>1.8</td>\n      <td>1.8</td>\n      <td>1.8</td>\n      <td>1.8</td>\n      <td>1.8</td>\n      <td>...</td>\n      <td>1.8</td>\n      <td>1.8</td>\n      <td>1.8</td>\n      <td>1.8</td>\n      <td>1.8</td>\n      <td>1.8</td>\n      <td>1.8</td>\n      <td>1.8</td>\n      <td>1.8</td>\n      <td>1.8</td>\n    </tr>\n    <tr>\n      <th>2</th>\n      <td>2014/1/1</td>\n      <td>豐原</td>\n      <td>CO</td>\n      <td>0.51</td>\n      <td>0.41</td>\n      <td>0.39</td>\n      <td>0.37</td>\n      <td>0.35</td>\n      <td>0.3</td>\n      <td>0.37</td>\n      <td>...</td>\n      <td>0.37</td>\n      <td>0.37</td>\n      <td>0.47</td>\n      <td>0.69</td>\n      <td>0.56</td>\n      <td>0.45</td>\n      <td>0.38</td>\n      <td>0.35</td>\n      <td>0.36</td>\n      <td>0.32</td>\n    </tr>\n    <tr>\n      <th>3</th>\n      <td>2014/1/1</td>\n      <td>豐原</td>\n      <td>NMHC</td>\n      <td>0.2</td>\n      <td>0.15</td>\n      <td>0.13</td>\n      <td>0.12</td>\n      <td>0.11</td>\n      <td>0.06</td>\n      <td>0.1</td>\n      <td>...</td>\n      <td>0.1</td>\n      <td>0.13</td>\n      <td>0.14</td>\n      <td>0.23</td>\n      <td>0.18</td>\n      <td>0.12</td>\n      <td>0.1</td>\n      <td>0.09</td>\n      <td>0.1</td>\n      <td>0.08</td>\n    </tr>\n    <tr>\n      <th>4</th>\n      <td>2014/1/1</td>\n      <td>豐原</td>\n      <td>NO</td>\n      <td>0.9</td>\n      <td>0.6</td>\n      <td>0.5</td>\n      <td>1.7</td>\n      <td>1.8</td>\n      <td>1.5</td>\n      <td>1.9</td>\n      <td>...</td>\n      <td>2.5</td>\n      <td>2.2</td>\n      <td>2.5</td>\n      <td>2.3</td>\n      <td>2.1</td>\n      <td>1.9</td>\n      <td>1.5</td>\n      <td>1.6</td>\n      <td>1.8</td>\n      <td>1.5</td>\n    </tr>\n    <tr>\n      <th>...</th>\n      <td>...</td>\n      <td>...</td>\n      <td>...</td>\n      <td>...</td>\n      <td>...</td>\n      <td>...</td>\n      <td>...</td>\n      <td>...</td>\n      <td>...</td>\n      <td>...</td>\n      <td>...</td>\n      <td>...</td>\n      <td>...</td>\n      <td>...</td>\n      <td>...</td>\n      <td>...</td>\n      <td>...</td>\n      <td>...</td>\n      <td>...</td>\n      <td>...</td>\n      <td>...</td>\n    </tr>\n    <tr>\n      <th>4315</th>\n      <td>2014/12/20</td>\n      <td>豐原</td>\n      <td>THC</td>\n      <td>1.8</td>\n      <td>1.8</td>\n      <td>1.8</td>\n      <td>1.8</td>\n      <td>1.8</td>\n      <td>1.7</td>\n      <td>1.7</td>\n      <td>...</td>\n      <td>1.8</td>\n      <td>1.8</td>\n      <td>2</td>\n      <td>2.1</td>\n      <td>2</td>\n      <td>1.9</td>\n      <td>1.9</td>\n      <td>1.9</td>\n      <td>2</td>\n      <td>2</td>\n    </tr>\n    <tr>\n      <th>4316</th>\n      <td>2014/12/20</td>\n      <td>豐原</td>\n      <td>WD_HR</td>\n      <td>46</td>\n      <td>13</td>\n      <td>61</td>\n      <td>44</td>\n      <td>55</td>\n      <td>68</td>\n      <td>66</td>\n      <td>...</td>\n      <td>59</td>\n      <td>308</td>\n      <td>327</td>\n      <td>21</td>\n      <td>100</td>\n      <td>109</td>\n      <td>108</td>\n      <td>114</td>\n      <td>108</td>\n      <td>109</td>\n    </tr>\n    <tr>\n      <th>4317</th>\n      <td>2014/12/20</td>\n      <td>豐原</td>\n      <td>WIND_DIREC</td>\n      <td>36</td>\n      <td>55</td>\n      <td>72</td>\n      <td>327</td>\n      <td>74</td>\n      <td>52</td>\n      <td>59</td>\n      <td>...</td>\n      <td>18</td>\n      <td>311</td>\n      <td>52</td>\n      <td>54</td>\n      <td>121</td>\n      <td>97</td>\n      <td>107</td>\n      <td>118</td>\n      <td>100</td>\n      <td>105</td>\n    </tr>\n    <tr>\n      <th>4318</th>\n      <td>2014/12/20</td>\n      <td>豐原</td>\n      <td>WIND_SPEED</td>\n      <td>1.9</td>\n      <td>2.4</td>\n      <td>1.9</td>\n      <td>2.8</td>\n      <td>2.3</td>\n      <td>1.9</td>\n      <td>2.1</td>\n      <td>...</td>\n      <td>2.3</td>\n      <td>2.6</td>\n      <td>1.3</td>\n      <td>1</td>\n      <td>1.5</td>\n      <td>1</td>\n      <td>1.7</td>\n      <td>1.5</td>\n      <td>2</td>\n      <td>2</td>\n    </tr>\n    <tr>\n      <th>4319</th>\n      <td>2014/12/20</td>\n      <td>豐原</td>\n      <td>WS_HR</td>\n      <td>0.7</td>\n      <td>0.8</td>\n      <td>1.8</td>\n      <td>1</td>\n      <td>1.9</td>\n      <td>1.7</td>\n      <td>2.1</td>\n      <td>...</td>\n      <td>1.3</td>\n      <td>1.7</td>\n      <td>0.7</td>\n      <td>0.4</td>\n      <td>1.1</td>\n      <td>1.4</td>\n      <td>1.3</td>\n      <td>1.6</td>\n      <td>1.8</td>\n      <td>2</td>\n    </tr>\n  </tbody>\n</table>\n<p>4320 rows × 27 columns</p>\n</div>"
     },
     "metadata": {},
     "execution_count": 3
    }
   ],
   "source": [
    "data = pd.read_csv(\"train.csv\", encoding='big5')\n",
    "data"
   ]
  },
  {
   "cell_type": "code",
   "execution_count": 3,
   "metadata": {
    "tags": []
   },
   "outputs": [
    {
     "output_type": "stream",
     "name": "stdout",
     "text": "<class 'pandas.core.frame.DataFrame'>\nRangeIndex: 4320 entries, 0 to 4319\nData columns (total 27 columns):\n #   Column  Non-Null Count  Dtype \n---  ------  --------------  ----- \n 0   日期      4320 non-null   object\n 1   測站      4320 non-null   object\n 2   測項      4320 non-null   object\n 3   0       4320 non-null   object\n 4   1       4320 non-null   object\n 5   2       4320 non-null   object\n 6   3       4320 non-null   object\n 7   4       4320 non-null   object\n 8   5       4320 non-null   object\n 9   6       4320 non-null   object\n 10  7       4320 non-null   object\n 11  8       4320 non-null   object\n 12  9       4320 non-null   object\n 13  10      4320 non-null   object\n 14  11      4320 non-null   object\n 15  12      4320 non-null   object\n 16  13      4320 non-null   object\n 17  14      4320 non-null   object\n 18  15      4320 non-null   object\n 19  16      4320 non-null   object\n 20  17      4320 non-null   object\n 21  18      4320 non-null   object\n 22  19      4320 non-null   object\n 23  20      4320 non-null   object\n 24  21      4320 non-null   object\n 25  22      4320 non-null   object\n 26  23      4320 non-null   object\ndtypes: object(27)\nmemory usage: 911.4+ KB\n"
    }
   ],
   "source": [
    "data.info()"
   ]
  },
  {
   "cell_type": "code",
   "execution_count": 4,
   "metadata": {
    "tags": []
   },
   "outputs": [
    {
     "output_type": "stream",
     "name": "stdout",
     "text": "测站:\n ['豐原']\n"
    }
   ],
   "source": [
    "data_jan = data(data['日期'] == '2014/1/1': data['日期'] == '2014/1/20',)"
   ]
  },
  {
   "cell_type": "code",
   "execution_count": 5,
   "metadata": {
    "tags": []
   },
   "outputs": [
    {
     "output_type": "execute_result",
     "data": {
      "text/plain": "          日期  測站          測項     0     1     2     3     4     5     6  ...  \\\n36  2014/1/3  豐原    AMB_TEMP    18    18    18    18    18    18    18  ...   \n37  2014/1/3  豐原         CH4   1.8   1.8   1.8   1.8   1.8   1.7   1.7  ...   \n38  2014/1/3  豐原          CO  0.32  0.35  0.37  0.31  0.29  0.27   0.3  ...   \n39  2014/1/3  豐原        NMHC  0.12  0.18  0.15  0.13  0.16  0.07  0.07  ...   \n40  2014/1/3  豐原          NO   1.2   1.3   1.2   0.9   0.9   0.8   1.1  ...   \n41  2014/1/3  豐原         NO2     8   9.7    10   7.2   7.4   6.2   7.7  ...   \n42  2014/1/3  豐原         NOx   9.2    11    11   8.1   8.3     7   8.8  ...   \n43  2014/1/3  豐原          O3    34    28    30    33    30    34    33  ...   \n44  2014/1/3  豐原        PM10    38    27    31    33    30    19    12  ...   \n45  2014/1/3  豐原       PM2.5    19    25    27    20    16    14    15  ...   \n46  2014/1/3  豐原    RAINFALL    NR    NR    NR    NR    NR    NR   1.2  ...   \n47  2014/1/3  豐原          RH    72    73    73    76    76    76    84  ...   \n48  2014/1/3  豐原         SO2   1.7   2.8   2.7   2.8   2.3     2   1.6  ...   \n49  2014/1/3  豐原         THC   1.9     2   1.9   1.9   1.9   1.8   1.8  ...   \n50  2014/1/3  豐原       WD_HR   117   106    91   115    93   115   101  ...   \n51  2014/1/3  豐原  WIND_DIREC   111    71   122   145   116   110    77  ...   \n52  2014/1/3  豐原  WIND_SPEED   1.5   1.6   1.2   1.6   1.3   2.8   1.4  ...   \n53  2014/1/3  豐原       WS_HR   1.7   1.2   1.2   1.2   1.2     2   1.3  ...   \n\n      14    15    16    17    18   19    20    21    22    23  \n36    24    22    22    21    20   20    20    20    20    19  \n37   1.8   1.8   1.8   1.8   1.8  1.8   1.8   1.8   1.8   1.8  \n38  0.31  0.34  0.42  0.53  0.55  0.6  0.49  0.28  0.35  0.37  \n39  0.18  0.19  0.22  0.32  0.24  0.3  0.23  0.06   0.2  0.22  \n40   2.2   2.3   3.1     2   1.3  2.7   1.6   1.1   1.1   1.4  \n41    11    15    26    22    25   29    19   6.1   9.6    11  \n42    13    17    29    24    26   32    20   7.2    11    12  \n43    50    45    30    26    19   10    20    37    29    22  \n44    41    56    68    73    72   70    61    53    50    52  \n45    32    36    34    45    40   41    23    29    23    37  \n46    NR    NR    NR    NR    NR   NR    NR    NR    NR    NR  \n47    58    62    65    70    71   73    72    66    69    74  \n48   3.4   4.3     8   3.8   3.8  3.8   3.3   2.2   2.3   2.2  \n49   1.9   1.9     2   2.1     2  2.1     2   1.8     2     2  \n50   311   314   309    42    54   48    61    95   6.5    45  \n51   310   319   314    48    57   46    61    82    63    31  \n52     3   2.5   1.5   1.6   1.4  1.2   1.8   1.4   1.5   1.4  \n53   2.1     2   1.4   0.6   1.3  0.7   1.2   2.5   0.4   0.5  \n\n[18 rows x 27 columns]",
      "text/html": "<div>\n<style scoped>\n    .dataframe tbody tr th:only-of-type {\n        vertical-align: middle;\n    }\n\n    .dataframe tbody tr th {\n        vertical-align: top;\n    }\n\n    .dataframe thead th {\n        text-align: right;\n    }\n</style>\n<table border=\"1\" class=\"dataframe\">\n  <thead>\n    <tr style=\"text-align: right;\">\n      <th></th>\n      <th>日期</th>\n      <th>測站</th>\n      <th>測項</th>\n      <th>0</th>\n      <th>1</th>\n      <th>2</th>\n      <th>3</th>\n      <th>4</th>\n      <th>5</th>\n      <th>6</th>\n      <th>...</th>\n      <th>14</th>\n      <th>15</th>\n      <th>16</th>\n      <th>17</th>\n      <th>18</th>\n      <th>19</th>\n      <th>20</th>\n      <th>21</th>\n      <th>22</th>\n      <th>23</th>\n    </tr>\n  </thead>\n  <tbody>\n    <tr>\n      <th>36</th>\n      <td>2014/1/3</td>\n      <td>豐原</td>\n      <td>AMB_TEMP</td>\n      <td>18</td>\n      <td>18</td>\n      <td>18</td>\n      <td>18</td>\n      <td>18</td>\n      <td>18</td>\n      <td>18</td>\n      <td>...</td>\n      <td>24</td>\n      <td>22</td>\n      <td>22</td>\n      <td>21</td>\n      <td>20</td>\n      <td>20</td>\n      <td>20</td>\n      <td>20</td>\n      <td>20</td>\n      <td>19</td>\n    </tr>\n    <tr>\n      <th>37</th>\n      <td>2014/1/3</td>\n      <td>豐原</td>\n      <td>CH4</td>\n      <td>1.8</td>\n      <td>1.8</td>\n      <td>1.8</td>\n      <td>1.8</td>\n      <td>1.8</td>\n      <td>1.7</td>\n      <td>1.7</td>\n      <td>...</td>\n      <td>1.8</td>\n      <td>1.8</td>\n      <td>1.8</td>\n      <td>1.8</td>\n      <td>1.8</td>\n      <td>1.8</td>\n      <td>1.8</td>\n      <td>1.8</td>\n      <td>1.8</td>\n      <td>1.8</td>\n    </tr>\n    <tr>\n      <th>38</th>\n      <td>2014/1/3</td>\n      <td>豐原</td>\n      <td>CO</td>\n      <td>0.32</td>\n      <td>0.35</td>\n      <td>0.37</td>\n      <td>0.31</td>\n      <td>0.29</td>\n      <td>0.27</td>\n      <td>0.3</td>\n      <td>...</td>\n      <td>0.31</td>\n      <td>0.34</td>\n      <td>0.42</td>\n      <td>0.53</td>\n      <td>0.55</td>\n      <td>0.6</td>\n      <td>0.49</td>\n      <td>0.28</td>\n      <td>0.35</td>\n      <td>0.37</td>\n    </tr>\n    <tr>\n      <th>39</th>\n      <td>2014/1/3</td>\n      <td>豐原</td>\n      <td>NMHC</td>\n      <td>0.12</td>\n      <td>0.18</td>\n      <td>0.15</td>\n      <td>0.13</td>\n      <td>0.16</td>\n      <td>0.07</td>\n      <td>0.07</td>\n      <td>...</td>\n      <td>0.18</td>\n      <td>0.19</td>\n      <td>0.22</td>\n      <td>0.32</td>\n      <td>0.24</td>\n      <td>0.3</td>\n      <td>0.23</td>\n      <td>0.06</td>\n      <td>0.2</td>\n      <td>0.22</td>\n    </tr>\n    <tr>\n      <th>40</th>\n      <td>2014/1/3</td>\n      <td>豐原</td>\n      <td>NO</td>\n      <td>1.2</td>\n      <td>1.3</td>\n      <td>1.2</td>\n      <td>0.9</td>\n      <td>0.9</td>\n      <td>0.8</td>\n      <td>1.1</td>\n      <td>...</td>\n      <td>2.2</td>\n      <td>2.3</td>\n      <td>3.1</td>\n      <td>2</td>\n      <td>1.3</td>\n      <td>2.7</td>\n      <td>1.6</td>\n      <td>1.1</td>\n      <td>1.1</td>\n      <td>1.4</td>\n    </tr>\n    <tr>\n      <th>41</th>\n      <td>2014/1/3</td>\n      <td>豐原</td>\n      <td>NO2</td>\n      <td>8</td>\n      <td>9.7</td>\n      <td>10</td>\n      <td>7.2</td>\n      <td>7.4</td>\n      <td>6.2</td>\n      <td>7.7</td>\n      <td>...</td>\n      <td>11</td>\n      <td>15</td>\n      <td>26</td>\n      <td>22</td>\n      <td>25</td>\n      <td>29</td>\n      <td>19</td>\n      <td>6.1</td>\n      <td>9.6</td>\n      <td>11</td>\n    </tr>\n    <tr>\n      <th>42</th>\n      <td>2014/1/3</td>\n      <td>豐原</td>\n      <td>NOx</td>\n      <td>9.2</td>\n      <td>11</td>\n      <td>11</td>\n      <td>8.1</td>\n      <td>8.3</td>\n      <td>7</td>\n      <td>8.8</td>\n      <td>...</td>\n      <td>13</td>\n      <td>17</td>\n      <td>29</td>\n      <td>24</td>\n      <td>26</td>\n      <td>32</td>\n      <td>20</td>\n      <td>7.2</td>\n      <td>11</td>\n      <td>12</td>\n    </tr>\n    <tr>\n      <th>43</th>\n      <td>2014/1/3</td>\n      <td>豐原</td>\n      <td>O3</td>\n      <td>34</td>\n      <td>28</td>\n      <td>30</td>\n      <td>33</td>\n      <td>30</td>\n      <td>34</td>\n      <td>33</td>\n      <td>...</td>\n      <td>50</td>\n      <td>45</td>\n      <td>30</td>\n      <td>26</td>\n      <td>19</td>\n      <td>10</td>\n      <td>20</td>\n      <td>37</td>\n      <td>29</td>\n      <td>22</td>\n    </tr>\n    <tr>\n      <th>44</th>\n      <td>2014/1/3</td>\n      <td>豐原</td>\n      <td>PM10</td>\n      <td>38</td>\n      <td>27</td>\n      <td>31</td>\n      <td>33</td>\n      <td>30</td>\n      <td>19</td>\n      <td>12</td>\n      <td>...</td>\n      <td>41</td>\n      <td>56</td>\n      <td>68</td>\n      <td>73</td>\n      <td>72</td>\n      <td>70</td>\n      <td>61</td>\n      <td>53</td>\n      <td>50</td>\n      <td>52</td>\n    </tr>\n    <tr>\n      <th>45</th>\n      <td>2014/1/3</td>\n      <td>豐原</td>\n      <td>PM2.5</td>\n      <td>19</td>\n      <td>25</td>\n      <td>27</td>\n      <td>20</td>\n      <td>16</td>\n      <td>14</td>\n      <td>15</td>\n      <td>...</td>\n      <td>32</td>\n      <td>36</td>\n      <td>34</td>\n      <td>45</td>\n      <td>40</td>\n      <td>41</td>\n      <td>23</td>\n      <td>29</td>\n      <td>23</td>\n      <td>37</td>\n    </tr>\n    <tr>\n      <th>46</th>\n      <td>2014/1/3</td>\n      <td>豐原</td>\n      <td>RAINFALL</td>\n      <td>NR</td>\n      <td>NR</td>\n      <td>NR</td>\n      <td>NR</td>\n      <td>NR</td>\n      <td>NR</td>\n      <td>1.2</td>\n      <td>...</td>\n      <td>NR</td>\n      <td>NR</td>\n      <td>NR</td>\n      <td>NR</td>\n      <td>NR</td>\n      <td>NR</td>\n      <td>NR</td>\n      <td>NR</td>\n      <td>NR</td>\n      <td>NR</td>\n    </tr>\n    <tr>\n      <th>47</th>\n      <td>2014/1/3</td>\n      <td>豐原</td>\n      <td>RH</td>\n      <td>72</td>\n      <td>73</td>\n      <td>73</td>\n      <td>76</td>\n      <td>76</td>\n      <td>76</td>\n      <td>84</td>\n      <td>...</td>\n      <td>58</td>\n      <td>62</td>\n      <td>65</td>\n      <td>70</td>\n      <td>71</td>\n      <td>73</td>\n      <td>72</td>\n      <td>66</td>\n      <td>69</td>\n      <td>74</td>\n    </tr>\n    <tr>\n      <th>48</th>\n      <td>2014/1/3</td>\n      <td>豐原</td>\n      <td>SO2</td>\n      <td>1.7</td>\n      <td>2.8</td>\n      <td>2.7</td>\n      <td>2.8</td>\n      <td>2.3</td>\n      <td>2</td>\n      <td>1.6</td>\n      <td>...</td>\n      <td>3.4</td>\n      <td>4.3</td>\n      <td>8</td>\n      <td>3.8</td>\n      <td>3.8</td>\n      <td>3.8</td>\n      <td>3.3</td>\n      <td>2.2</td>\n      <td>2.3</td>\n      <td>2.2</td>\n    </tr>\n    <tr>\n      <th>49</th>\n      <td>2014/1/3</td>\n      <td>豐原</td>\n      <td>THC</td>\n      <td>1.9</td>\n      <td>2</td>\n      <td>1.9</td>\n      <td>1.9</td>\n      <td>1.9</td>\n      <td>1.8</td>\n      <td>1.8</td>\n      <td>...</td>\n      <td>1.9</td>\n      <td>1.9</td>\n      <td>2</td>\n      <td>2.1</td>\n      <td>2</td>\n      <td>2.1</td>\n      <td>2</td>\n      <td>1.8</td>\n      <td>2</td>\n      <td>2</td>\n    </tr>\n    <tr>\n      <th>50</th>\n      <td>2014/1/3</td>\n      <td>豐原</td>\n      <td>WD_HR</td>\n      <td>117</td>\n      <td>106</td>\n      <td>91</td>\n      <td>115</td>\n      <td>93</td>\n      <td>115</td>\n      <td>101</td>\n      <td>...</td>\n      <td>311</td>\n      <td>314</td>\n      <td>309</td>\n      <td>42</td>\n      <td>54</td>\n      <td>48</td>\n      <td>61</td>\n      <td>95</td>\n      <td>6.5</td>\n      <td>45</td>\n    </tr>\n    <tr>\n      <th>51</th>\n      <td>2014/1/3</td>\n      <td>豐原</td>\n      <td>WIND_DIREC</td>\n      <td>111</td>\n      <td>71</td>\n      <td>122</td>\n      <td>145</td>\n      <td>116</td>\n      <td>110</td>\n      <td>77</td>\n      <td>...</td>\n      <td>310</td>\n      <td>319</td>\n      <td>314</td>\n      <td>48</td>\n      <td>57</td>\n      <td>46</td>\n      <td>61</td>\n      <td>82</td>\n      <td>63</td>\n      <td>31</td>\n    </tr>\n    <tr>\n      <th>52</th>\n      <td>2014/1/3</td>\n      <td>豐原</td>\n      <td>WIND_SPEED</td>\n      <td>1.5</td>\n      <td>1.6</td>\n      <td>1.2</td>\n      <td>1.6</td>\n      <td>1.3</td>\n      <td>2.8</td>\n      <td>1.4</td>\n      <td>...</td>\n      <td>3</td>\n      <td>2.5</td>\n      <td>1.5</td>\n      <td>1.6</td>\n      <td>1.4</td>\n      <td>1.2</td>\n      <td>1.8</td>\n      <td>1.4</td>\n      <td>1.5</td>\n      <td>1.4</td>\n    </tr>\n    <tr>\n      <th>53</th>\n      <td>2014/1/3</td>\n      <td>豐原</td>\n      <td>WS_HR</td>\n      <td>1.7</td>\n      <td>1.2</td>\n      <td>1.2</td>\n      <td>1.2</td>\n      <td>1.2</td>\n      <td>2</td>\n      <td>1.3</td>\n      <td>...</td>\n      <td>2.1</td>\n      <td>2</td>\n      <td>1.4</td>\n      <td>0.6</td>\n      <td>1.3</td>\n      <td>0.7</td>\n      <td>1.2</td>\n      <td>2.5</td>\n      <td>0.4</td>\n      <td>0.5</td>\n    </tr>\n  </tbody>\n</table>\n<p>18 rows × 27 columns</p>\n</div>"
     },
     "metadata": {},
     "execution_count": 5
    }
   ],
   "source": [
    "data[data['日期'] == '2014/1/3']\n"
   ]
  },
  {
   "cell_type": "code",
   "execution_count": 6,
   "metadata": {},
   "outputs": [],
   "source": [
    "data = data.iloc[:, 3:]\n",
    "data[data == 'NR'] = 0\n",
    "# data[data['日期'] == '2014/1/3']"
   ]
  },
  {
   "cell_type": "code",
   "execution_count": 7,
   "metadata": {},
   "outputs": [
    {
     "output_type": "execute_result",
     "data": {
      "text/plain": "array([['14', '14', '14', ..., '15', '15', '15'],\n       ['1.8', '1.8', '1.8', ..., '1.8', '1.8', '1.8'],\n       ['0.51', '0.41', '0.39', ..., '0.35', '0.36', '0.32'],\n       ...,\n       ['36', '55', '72', ..., '118', '100', '105'],\n       ['1.9', '2.4', '1.9', ..., '1.5', '2', '2'],\n       ['0.7', '0.8', '1.8', ..., '1.6', '1.8', '2']], dtype=object)"
     },
     "metadata": {},
     "execution_count": 7
    }
   ],
   "source": [
    "raw_data = data.to_numpy()\n",
    "raw_data"
   ]
  },
  {
   "cell_type": "code",
   "execution_count": 8,
   "metadata": {},
   "outputs": [
    {
     "output_type": "execute_result",
     "data": {
      "text/plain": "{0: array([[14.  , 14.  , 14.  , ..., 14.  , 13.  , 13.  ],\n        [ 1.8 ,  1.8 ,  1.8 , ...,  1.8 ,  1.8 ,  1.8 ],\n        [ 0.51,  0.41,  0.39, ...,  0.34,  0.41,  0.43],\n        ...,\n        [35.  , 79.  ,  2.4 , ..., 48.  , 63.  , 53.  ],\n        [ 1.4 ,  1.8 ,  1.  , ...,  1.1 ,  1.9 ,  1.9 ],\n        [ 0.5 ,  0.9 ,  0.6 , ...,  1.2 ,  1.2 ,  1.3 ]]),\n 1: array([[ 15.  ,  14.  ,  14.  , ...,   8.4 ,   8.  ,   7.6 ],\n        [  1.8 ,   1.8 ,   1.7 , ...,   1.7 ,   1.7 ,   1.7 ],\n        [  0.27,   0.26,   0.25, ...,   0.36,   0.35,   0.32],\n        ...,\n        [113.  , 109.  , 104.  , ...,  72.  ,  65.  ,  69.  ],\n        [  2.3 ,   2.2 ,   2.6 , ...,   1.9 ,   2.9 ,   1.5 ],\n        [  2.5 ,   2.2 ,   2.2 , ...,   0.9 ,   1.6 ,   1.1 ]]),\n 2: array([[ 18.  ,  18.  ,  18.  , ...,  14.  ,  13.  ,  13.  ],\n        [  1.8 ,   1.8 ,   1.8 , ...,   1.8 ,   1.8 ,   1.8 ],\n        [  0.39,   0.36,   0.4 , ...,   0.42,   0.47,   0.49],\n        ...,\n        [103.  , 128.  , 115.  , ...,  60.  ,  94.  ,  53.  ],\n        [  1.7 ,   1.4 ,   1.8 , ...,   4.2 ,   3.5 ,   4.3 ],\n        [  1.9 ,   0.8 ,   1.5 , ...,   3.1 ,   2.4 ,   2.4 ]]),\n 3: array([[ 19.  ,  18.  ,  17.  , ...,  24.  ,  24.  ,  23.  ],\n        [  1.7 ,   1.7 ,   1.7 , ...,   1.8 ,   1.8 ,   1.9 ],\n        [  0.42,   0.42,   0.42, ...,   0.41,   0.46,   0.42],\n        ...,\n        [308.  , 308.  , 320.  , ..., 331.  , 261.  , 273.  ],\n        [  1.7 ,   2.2 ,   2.  , ...,   1.  ,   1.  ,   0.8 ],\n        [  1.5 ,   1.5 ,   1.2 , ...,   0.6 ,   1.1 ,   0.9 ]]),\n 4: array([[1.90e+01, 1.90e+01, 2.00e+01, ..., 2.60e+01, 2.60e+01, 2.50e+01],\n        [1.80e+00, 1.80e+00, 1.80e+00, ..., 1.60e+00, 1.60e+00, 1.60e+00],\n        [4.80e-01, 4.70e-01, 4.50e-01, ..., 1.50e-01, 1.50e-01, 1.30e-01],\n        ...,\n        [2.90e+02, 6.90e+01, 2.50e+02, ..., 1.74e+02, 1.95e+02, 1.69e+02],\n        [1.50e+00, 1.90e+00, 1.70e+00, ..., 3.10e+00, 3.10e+00, 2.90e+00],\n        [4.00e-01, 5.00e-01, 1.00e+00, ..., 2.90e+00, 2.40e+00, 3.10e+00]]),\n 5: array([[2.60e+01, 2.50e+01, 2.50e+01, ..., 2.70e+01, 2.70e+01, 2.80e+01],\n        [1.70e+00, 1.70e+00, 1.70e+00, ..., 1.60e+00, 1.60e+00, 1.60e+00],\n        [3.50e-01, 3.40e-01, 3.40e-01, ..., 2.60e-01, 1.90e-01, 1.60e-01],\n        ...,\n        [1.18e+02, 1.22e+02, 1.19e+02, ..., 1.16e+02, 1.59e+02, 1.62e+02],\n        [1.60e+00, 1.40e+00, 1.30e+00, ..., 1.70e+00, 1.00e+00, 2.40e+00],\n        [1.50e+00, 1.50e+00, 1.30e+00, ..., 1.30e+00, 1.30e+00, 1.70e+00]]),\n 6: array([[2.60e+01, 2.50e+01, 2.60e+01, ..., 2.80e+01, 2.80e+01, 2.80e+01],\n        [1.60e+00, 1.60e+00, 1.60e+00, ..., 1.60e+00, 1.60e+00, 1.70e+00],\n        [1.40e-01, 1.30e-01, 1.30e-01, ..., 3.10e-01, 3.00e-01, 2.70e-01],\n        ...,\n        [1.06e+02, 1.24e+02, 1.17e+02, ..., 1.27e+02, 1.33e+02, 1.72e+02],\n        [1.60e+00, 1.80e+00, 1.20e+00, ..., 1.60e+00, 1.40e+00, 1.70e+00],\n        [2.00e+00, 2.20e+00, 1.70e+00, ..., 1.70e+00, 1.30e+00, 1.60e+00]]),\n 7: array([[2.80e+01, 2.80e+01, 2.80e+01, ..., 2.60e+01, 2.60e+01, 2.60e+01],\n        [1.60e+00, 1.60e+00, 1.60e+00, ..., 1.70e+00, 1.70e+00, 1.70e+00],\n        [2.60e-01, 2.00e-01, 1.60e-01, ..., 1.60e-01, 1.40e-01, 1.30e-01],\n        ...,\n        [2.04e+02, 1.77e+02, 1.72e+02, ..., 1.68e+02, 1.80e+02, 1.62e+02],\n        [2.90e+00, 2.80e+00, 2.70e+00, ..., 2.90e+00, 2.80e+00, 2.50e+00],\n        [3.00e+00, 2.80e+00, 2.70e+00, ..., 3.10e+00, 2.90e+00, 2.50e+00]]),\n 8: array([[ 25.  ,  25.  ,  25.  , ...,  26.  ,  26.  ,  26.  ],\n        [  1.7 ,   1.7 ,   1.7 , ...,   1.6 ,   1.6 ,   1.7 ],\n        [  0.28,   0.27,   0.26, ...,   0.28,   0.24,   0.23],\n        ...,\n        [ 98.  , 109.  , 108.  , ..., 163.  ,  71.  ,  55.  ],\n        [  1.8 ,   1.9 ,   1.1 , ...,   1.2 ,   1.1 ,   0.7 ],\n        [  1.4 ,   1.9 ,   1.7 , ...,   3.4 ,   1.  ,   0.7 ]]),\n 9: array([[ 25.  ,  25.  ,  25.  , ...,  23.  ,  22.  ,  22.  ],\n        [  1.7 ,   1.7 ,   1.7 , ...,   1.8 ,   1.7 ,   1.7 ],\n        [  0.24,   0.26,   0.27, ...,   0.42,   0.35,   0.26],\n        ...,\n        [ 72.  , 100.  ,  68.  , ..., 109.  , 110.  , 107.  ],\n        [  1.1 ,   1.4 ,   1.1 , ...,   2.2 ,   2.4 ,   2.5 ],\n        [  1.8 ,   1.2 ,   0.9 , ...,   2.1 ,   2.2 ,   2.3 ]]),\n 10: array([[ 22.  ,  21.  ,  21.  , ...,  19.  ,  18.  ,  18.  ],\n        [  1.9 ,   1.9 ,   1.9 , ...,   1.7 ,   1.7 ,   1.7 ],\n        [  0.79,   0.71,   0.61, ...,   0.36,   0.36,   0.37],\n        ...,\n        [100.  , 117.  , 110.  , ..., 117.  , 117.  , 114.  ],\n        [  1.1 ,   1.9 ,   1.7 , ...,   2.1 ,   2.2 ,   1.9 ],\n        [  0.7 ,   1.1 ,   1.2 , ...,   1.8 ,   2.1 ,   1.9 ]]),\n 11: array([[ 23.  ,  23.  ,  23.  , ...,  13.  ,  13.  ,  13.  ],\n        [  1.6 ,   1.7 ,   1.7 , ...,   1.8 ,   1.8 ,   1.8 ],\n        [  0.22,   0.2 ,   0.18, ...,   0.51,   0.57,   0.56],\n        ...,\n        [ 93.  ,  50.  ,  99.  , ..., 118.  , 100.  , 105.  ],\n        [  1.8 ,   2.1 ,   3.2 , ...,   1.5 ,   2.  ,   2.  ],\n        [  1.3 ,   0.9 ,   1.  , ...,   1.6 ,   1.8 ,   2.  ]])}"
     },
     "metadata": {},
     "execution_count": 8
    }
   ],
   "source": [
    "month_data = {}\n",
    "for month in range(12):\n",
    "    sample = np.empty([18, 480])\n",
    "    for day in range(20):\n",
    "        sample[:, day * 24 : (day + 1) * 24] = raw_data[18 * (20 * month + day) : 18 * (20 * month + day + 1), :]\n",
    "    month_data[month] = sample\n",
    "month_data"
   ]
  },
  {
   "cell_type": "code",
   "execution_count": 9,
   "metadata": {
    "tags": []
   },
   "outputs": [
    {
     "output_type": "stream",
     "name": "stdout",
     "text": "[[14.  14.  14.  ...  2.   2.   0.5]\n [14.  14.  13.  ...  2.   0.5  0.3]\n [14.  13.  12.  ...  0.5  0.3  0.8]\n ...\n [17.  18.  19.  ...  1.1  1.4  1.3]\n [18.  19.  18.  ...  1.4  1.3  1.6]\n [19.  18.  17.  ...  1.3  1.6  1.8]]\n[[30.]\n [41.]\n [44.]\n ...\n [17.]\n [24.]\n [29.]]\n"
    }
   ],
   "source": [
    "x = np.empty([12 * 471, 18 * 9], dtype = float)\n",
    "y = np.empty([12 * 471, 1], dtype = float)\n",
    "for month in range(12):\n",
    "    for day in range(20):\n",
    "        for hour in range(24):\n",
    "            if day == 19 and hour > 14:\n",
    "                continue\n",
    "            x[month * 471 + day * 24 + hour, :] = month_data[month][:,day * 24 + hour : day * 24 + hour + 9].reshape(1, -1) #vector dim:18*9 (9 9 9 9 9 9 9 9 9 9 9 9 9 9 9 9 9 9)\n",
    "            y[month * 471 + day * 24 + hour, 0] = month_data[month][9, day * 24 + hour + 9] #value\n",
    "print(x)\n",
    "print(y)"
   ]
  },
  {
   "cell_type": "code",
   "execution_count": 10,
   "metadata": {},
   "outputs": [
    {
     "output_type": "execute_result",
     "data": {
      "text/plain": "array([[-1.35825331, -1.35883937, -1.359222  , ...,  0.26650729,\n         0.2656797 , -1.14082131],\n       [-1.35825331, -1.35883937, -1.51819928, ...,  0.26650729,\n        -1.13963133, -1.32832904],\n       [-1.35825331, -1.51789368, -1.67717656, ..., -1.13923451,\n        -1.32700613, -0.85955971],\n       ...,\n       [-0.88092053, -0.72262212, -0.56433559, ..., -0.57693779,\n        -0.29644471, -0.39079039],\n       [-0.7218096 , -0.56356781, -0.72331287, ..., -0.29578943,\n        -0.39013211, -0.1095288 ],\n       [-0.56269867, -0.72262212, -0.88229015, ..., -0.38950555,\n        -0.10906991,  0.07797893]])"
     },
     "metadata": {},
     "execution_count": 10
    }
   ],
   "source": [
    "mean_x = np.mean(x, axis = 0) #18 * 9 \n",
    "std_x = np.std(x, axis = 0) #18 * 9 \n",
    "for i in range(len(x)): #12 * 471\n",
    "    for j in range(len(x[0])): #18 * 9 \n",
    "        if std_x[j] != 0:\n",
    "            x[i][j] = (x[i][j] - mean_x[j]) / std_x[j]\n",
    "x"
   ]
  },
  {
   "cell_type": "code",
   "execution_count": null,
   "metadata": {},
   "outputs": [],
   "source": []
  }
 ],
 "metadata": {
  "language_info": {
   "codemirror_mode": {
    "name": "ipython",
    "version": 3
   },
   "file_extension": ".py",
   "mimetype": "text/x-python",
   "name": "python",
   "nbconvert_exporter": "python",
   "pygments_lexer": "ipython3",
   "version": "3.7.7-final"
  },
  "orig_nbformat": 2,
  "kernelspec": {
   "name": "python37764bittensorflowgpucondace85524c76794e63ae5a4c99e94c4920",
   "display_name": "Python 3.7.7 64-bit ('tensorflow-gpu': conda)"
  }
 },
 "nbformat": 4,
 "nbformat_minor": 2
}